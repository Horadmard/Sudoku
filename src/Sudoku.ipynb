{
 "cells": [
  {
   "cell_type": "markdown",
   "metadata": {},
   "source": [
    "# Import needed Libraries\n",
    "\n",
    "- numpy : martixes and calculation\n",
    "- pandas : data manipulation and representation (.csv fies)\n",
    "- random : randomizing\n",
    "- math"
   ]
  },
  {
   "cell_type": "code",
   "execution_count": 1,
   "metadata": {},
   "outputs": [],
   "source": [
    "import numpy as np\n",
    "import pandas as pn\n",
    "import random as rand\n",
    "import math\n",
    "# import networkx as nx\n",
    "# import matplotlib.pyplot as plt"
   ]
  },
  {
   "cell_type": "markdown",
   "metadata": {},
   "source": [
    "# Bring me data\n",
    "\n",
    "Import data from a .csv file that contains 20 Sudoku tables extracted from 'qqwing.com/generate.html'"
   ]
  },
  {
   "cell_type": "code",
   "execution_count": 2,
   "metadata": {},
   "outputs": [
    {
     "data": {
      "text/html": [
       "<div>\n",
       "<style scoped>\n",
       "    .dataframe tbody tr th:only-of-type {\n",
       "        vertical-align: middle;\n",
       "    }\n",
       "\n",
       "    .dataframe tbody tr th {\n",
       "        vertical-align: top;\n",
       "    }\n",
       "\n",
       "    .dataframe thead th {\n",
       "        text-align: right;\n",
       "    }\n",
       "</style>\n",
       "<table border=\"1\" class=\"dataframe\">\n",
       "  <thead>\n",
       "    <tr style=\"text-align: right;\">\n",
       "      <th></th>\n",
       "      <th>Puzzle</th>\n",
       "      <th>Difficulty</th>\n",
       "    </tr>\n",
       "  </thead>\n",
       "  <tbody>\n",
       "    <tr>\n",
       "      <th>0</th>\n",
       "      <td>.59..27..........51.7..5......3....691..67.......</td>\n",
       "      <td>Expert</td>\n",
       "    </tr>\n",
       "    <tr>\n",
       "      <th>1</th>\n",
       "      <td>...4..3...6...1.7.4.1....5...8...7....52...1.6...</td>\n",
       "      <td>Expert</td>\n",
       "    </tr>\n",
       "    <tr>\n",
       "      <th>2</th>\n",
       "      <td>...6.....6....2...4.2.57...7.9.6.4..5....93.22...</td>\n",
       "      <td>Easy</td>\n",
       "    </tr>\n",
       "    <tr>\n",
       "      <th>3</th>\n",
       "      <td>.71.6......38.....2.4.93..........86.6.91.3..8...</td>\n",
       "      <td>Expert</td>\n",
       "    </tr>\n",
       "    <tr>\n",
       "      <th>4</th>\n",
       "      <td>.7.6.24.3.......56..2.1.....2...9.6.3..1.....7...</td>\n",
       "      <td>Expert</td>\n",
       "    </tr>\n",
       "  </tbody>\n",
       "</table>\n",
       "</div>"
      ],
      "text/plain": [
       "                                              Puzzle Difficulty\n",
       "0  .59..27..........51.7..5......3....691..67.......     Expert\n",
       "1  ...4..3...6...1.7.4.1....5...8...7....52...1.6...     Expert\n",
       "2  ...6.....6....2...4.2.57...7.9.6.4..5....93.22...       Easy\n",
       "3  .71.6......38.....2.4.93..........86.6.91.3..8...     Expert\n",
       "4  .7.6.24.3.......56..2.1.....2...9.6.3..1.....7...     Expert"
      ]
     },
     "execution_count": 2,
     "metadata": {},
     "output_type": "execute_result"
    }
   ],
   "source": [
    "df = pn.read_csv('../docs/sample.csv')\n",
    "df[['Puzzle', 'Difficulty']].head()"
   ]
  },
  {
   "cell_type": "markdown",
   "metadata": {},
   "source": [
    "# Selection\n",
    "Select one of 'em randomly\n",
    "\n",
    "It can be selected depends on 'Difficulty'(optional)"
   ]
  },
  {
   "cell_type": "code",
   "execution_count": 3,
   "metadata": {},
   "outputs": [],
   "source": [
    "col1 = df['Puzzle'][rand.randint(0, 19)]"
   ]
  },
  {
   "cell_type": "code",
   "execution_count": 4,
   "metadata": {},
   "outputs": [],
   "source": [
    "# Declare matrix dimation\n",
    "num = 0\n",
    "for char in col1:\n",
    "    num += 1\n",
    "\n",
    "dim = int(math.sqrt(num))"
   ]
  },
  {
   "cell_type": "markdown",
   "metadata": {},
   "source": [
    "# Result\n",
    "\n",
    "And now we have a nparray, that represents a specific Sudoku table with specifc dificulty.\n",
    "\n",
    "**The 0 cells, consider as empty**."
   ]
  },
  {
   "cell_type": "code",
   "execution_count": 5,
   "metadata": {},
   "outputs": [
    {
     "data": {
      "text/plain": [
       "array([[0, 0, 0, 0, 0, 0, 0, 0, 0],\n",
       "       [0, 0, 4, 0, 0, 0, 2, 5, 0],\n",
       "       [5, 0, 0, 0, 0, 0, 6, 8, 7],\n",
       "       [0, 0, 0, 0, 0, 0, 0, 0, 2],\n",
       "       [0, 7, 0, 0, 5, 0, 0, 0, 0],\n",
       "       [0, 0, 0, 0, 8, 2, 1, 7, 9],\n",
       "       [4, 0, 1, 0, 7, 0, 0, 0, 5],\n",
       "       [0, 0, 7, 0, 9, 0, 0, 0, 0],\n",
       "       [6, 0, 8, 4, 1, 0, 0, 0, 0]])"
      ]
     },
     "execution_count": 5,
     "metadata": {},
     "output_type": "execute_result"
    }
   ],
   "source": [
    "# Convert the string to a list of integers\n",
    "col1 = col1.replace('.', '0')\n",
    "numbers = [int(x) for x in col1]\n",
    "\n",
    "# Creating the 2D matrix\n",
    "matrix = [numbers[i * dim:(i + 1) * dim] for i in range(dim)]\n",
    "\n",
    "numpy_array = np.array(matrix)\n",
    "numpy_array"
   ]
  },
  {
   "cell_type": "code",
   "execution_count": 6,
   "metadata": {},
   "outputs": [],
   "source": [
    "# # We have 9 Blocks\n",
    "# list = [[], [], [], [], [], [], [], [], []]\n",
    "# Block = []\n",
    "# m, n = 0, 0\n",
    "\n",
    "# for i in range(3 * m + 2):\n",
    "#     for j in range(3 * n + 2):\n",
    "#         print(numpy_array[i][j])\n",
    "#         n += 1\n",
    "#     n = 0\n",
    "#     m += 1"
   ]
  },
  {
   "cell_type": "code",
   "execution_count": 4,
   "metadata": {},
   "outputs": [
    {
     "name": "stdout",
     "output_type": "stream",
     "text": [
      "[[ 0  1  2  3  4  5  6  7  8]\n",
      " [ 9 10 11 12 13 14 15 16 17]\n",
      " [18 19 20 21 22 23 24 25 26]\n",
      " [27 28 29 30 31 32 33 34 35]\n",
      " [36 37 38 39 40 41 42 43 44]\n",
      " [45 46 47 48 49 50 51 52 53]\n",
      " [54 55 56 57 58 59 60 61 62]\n",
      " [63 64 65 66 67 68 69 70 71]\n",
      " [72 73 74 75 76 77 78 79 80]]\n"
     ]
    },
    {
     "data": {
      "text/plain": [
       "array([[ 0,  1,  2,  3,  4,  5,  6,  7,  8],\n",
       "       [ 9, 10, 11, 12, 13, 14, 15, 16, 17],\n",
       "       [18, 19, 20, 21, 22, 23, 24, 25, 26]])"
      ]
     },
     "execution_count": 4,
     "metadata": {},
     "output_type": "execute_result"
    }
   ],
   "source": [
    "import numpy as np\n",
    "\n",
    "# Create a 9x9 matrix (you can replace this with your actual matrix)\n",
    "matrix = np.arange(81).reshape(9, 9)\n",
    "print(matrix)\n",
    "# Split the matrix into 3x3 blocks\n",
    "blocks = np.split(matrix, 3)\n",
    "blocks[0]\n",
    "# Print the resulting blocks\n",
    "# for block in blocks:\n",
    "#     print(block)"
   ]
  },
  {
   "cell_type": "code",
   "execution_count": 6,
   "metadata": {},
   "outputs": [
    {
     "name": "stdout",
     "output_type": "stream",
     "text": [
      "[[ 0  1  2  3  4  5  6  7  8]\n",
      " [ 9 10 11 12 13 14 15 16 17]\n",
      " [18 19 20 21 22 23 24 25 26]\n",
      " [27 28 29 30 31 32 33 34 35]\n",
      " [36 37 38 39 40 41 42 43 44]\n",
      " [45 46 47 48 49 50 51 52 53]\n",
      " [54 55 56 57 58 59 60 61 62]\n",
      " [63 64 65 66 67 68 69 70 71]\n",
      " [72 73 74 75 76 77 78 79 80]]\n",
      "Submatrix 1:\n",
      "[[ 0  1  2]\n",
      " [ 9 10 11]\n",
      " [18 19 20]]\n",
      "\n",
      "Submatrix 2:\n",
      "[[ 3  4  5]\n",
      " [12 13 14]\n",
      " [21 22 23]]\n",
      "\n",
      "Submatrix 3:\n",
      "[[ 6  7  8]\n",
      " [15 16 17]\n",
      " [24 25 26]]\n",
      "\n",
      "Submatrix 4:\n",
      "[[27 28 29]\n",
      " [36 37 38]\n",
      " [45 46 47]]\n",
      "\n",
      "Submatrix 5:\n",
      "[[30 31 32]\n",
      " [39 40 41]\n",
      " [48 49 50]]\n",
      "\n",
      "Submatrix 6:\n",
      "[[33 34 35]\n",
      " [42 43 44]\n",
      " [51 52 53]]\n",
      "\n",
      "Submatrix 7:\n",
      "[[54 55 56]\n",
      " [63 64 65]\n",
      " [72 73 74]]\n",
      "\n",
      "Submatrix 8:\n",
      "[[57 58 59]\n",
      " [66 67 68]\n",
      " [75 76 77]]\n",
      "\n",
      "Submatrix 9:\n",
      "[[60 61 62]\n",
      " [69 70 71]\n",
      " [78 79 80]]\n",
      "\n"
     ]
    }
   ],
   "source": [
    "# Create a 9x9 square matrix (you can replace this with your actual matrix)\n",
    "matrix = np.arange(81).reshape(9, 9)\n",
    "print(matrix)\n",
    "# Initialize an empty list to store the submatrices\n",
    "submatrices = []\n",
    "\n",
    "# Split the matrix into 3x3 blocks\n",
    "for i in range(3):\n",
    "    for j in range(3):\n",
    "        submatrix = matrix[i*3:(i+1)*3, j*3:(j+1)*3]\n",
    "        submatrices.append(submatrix)\n",
    "\n",
    "# Print the resulting submatrices\n",
    "for idx, submatrix in enumerate(submatrices):\n",
    "    print(f\"Submatrix {idx+1}:\\n{submatrix}\\n\")\n"
   ]
  },
  {
   "cell_type": "markdown",
   "metadata": {},
   "source": [
    "# Functions\n",
    "\n",
    "Here we have a Function, (i would like to call it the *Harrass Function*) called **is_treated()** checks if we a value can be sited in a cell or not (depends on row and column).\n",
    "\n",
    "The function helps us with BFS algorithm, when a branch has noting to offer (not promising in other hand)."
   ]
  },
  {
   "cell_type": "code",
   "execution_count": 7,
   "metadata": {},
   "outputs": [],
   "source": [
    "def is_treated(matrix, pos, value):\n",
    "    \n",
    "    #Checks if there's any same value in row or column\n",
    "    if value in matrix[pos[0]] or value in matrix.T[pos[1]]:\n",
    "        return False\n",
    "    else:\n",
    "        return True"
   ]
  },
  {
   "cell_type": "code",
   "execution_count": 8,
   "metadata": {},
   "outputs": [
    {
     "data": {
      "text/plain": [
       "True"
      ]
     },
     "execution_count": 8,
     "metadata": {},
     "output_type": "execute_result"
    }
   ],
   "source": [
    "is_treated(numpy_array, [0, 3], 6)"
   ]
  },
  {
   "cell_type": "markdown",
   "metadata": {},
   "source": [
    "# All you have to do is:\n",
    "\n",
    "Implanting BackTrack alg and run it on this matrix\n",
    "\n",
    "Another file i created called 'Visual.ipynb' can be use for visualisition using networks library"
   ]
  },
  {
   "cell_type": "markdown",
   "metadata": {},
   "source": []
  }
 ],
 "metadata": {
  "kernelspec": {
   "display_name": "Python 3",
   "language": "python",
   "name": "python3"
  },
  "language_info": {
   "codemirror_mode": {
    "name": "ipython",
    "version": 3
   },
   "file_extension": ".py",
   "mimetype": "text/x-python",
   "name": "python",
   "nbconvert_exporter": "python",
   "pygments_lexer": "ipython3",
   "version": "3.12.1"
  }
 },
 "nbformat": 4,
 "nbformat_minor": 2
}
