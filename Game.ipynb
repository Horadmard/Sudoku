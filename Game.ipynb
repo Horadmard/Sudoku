{
 "cells": [
  {
   "cell_type": "code",
   "execution_count": 7,
   "metadata": {},
   "outputs": [],
   "source": [
    "import numpy as np\n",
    "import pandas as pan"
   ]
  },
  {
   "cell_type": "code",
   "execution_count": 8,
   "metadata": {},
   "outputs": [
    {
     "data": {
      "text/html": [
       "<div>\n",
       "<style scoped>\n",
       "    .dataframe tbody tr th:only-of-type {\n",
       "        vertical-align: middle;\n",
       "    }\n",
       "\n",
       "    .dataframe tbody tr th {\n",
       "        vertical-align: top;\n",
       "    }\n",
       "\n",
       "    .dataframe thead th {\n",
       "        text-align: right;\n",
       "    }\n",
       "</style>\n",
       "<table border=\"1\" class=\"dataframe\">\n",
       "  <thead>\n",
       "    <tr style=\"text-align: right;\">\n",
       "      <th></th>\n",
       "      <th>Puzzle</th>\n",
       "      <th>Givens</th>\n",
       "      <th>Singles</th>\n",
       "      <th>Hidden Singles</th>\n",
       "      <th>Naked Pairs</th>\n",
       "      <th>Hidden Pairs</th>\n",
       "      <th>Pointing Pairs/Triples</th>\n",
       "      <th>Box/Line Intersections</th>\n",
       "      <th>Guesses</th>\n",
       "      <th>Backtracks</th>\n",
       "      <th>Difficulty</th>\n",
       "    </tr>\n",
       "  </thead>\n",
       "  <tbody>\n",
       "    <tr>\n",
       "      <th>0</th>\n",
       "      <td>3..9.....8.71.....1..4.72..4.5...9.....28....9...</td>\n",
       "      <td>25</td>\n",
       "      <td>59</td>\n",
       "      <td>16</td>\n",
       "      <td>0</td>\n",
       "      <td>0</td>\n",
       "      <td>0</td>\n",
       "      <td>0</td>\n",
       "      <td>5</td>\n",
       "      <td>4</td>\n",
       "      <td>Expert</td>\n",
       "    </tr>\n",
       "    <tr>\n",
       "      <th>1</th>\n",
       "      <td>....478.......2..75...3..1...147.39..4.....5.....</td>\n",
       "      <td>25</td>\n",
       "      <td>34</td>\n",
       "      <td>22</td>\n",
       "      <td>0</td>\n",
       "      <td>0</td>\n",
       "      <td>0</td>\n",
       "      <td>0</td>\n",
       "      <td>0</td>\n",
       "      <td>0</td>\n",
       "      <td>Easy</td>\n",
       "    </tr>\n",
       "    <tr>\n",
       "      <th>2</th>\n",
       "      <td>.....72.1.9...6..8.21..9..5.897..6...............</td>\n",
       "      <td>25</td>\n",
       "      <td>42</td>\n",
       "      <td>14</td>\n",
       "      <td>3</td>\n",
       "      <td>0</td>\n",
       "      <td>2</td>\n",
       "      <td>0</td>\n",
       "      <td>0</td>\n",
       "      <td>0</td>\n",
       "      <td>Intermediate</td>\n",
       "    </tr>\n",
       "    <tr>\n",
       "      <th>3</th>\n",
       "      <td>......96....7.83.43.5.......9.8.1..7..8....1.....</td>\n",
       "      <td>26</td>\n",
       "      <td>50</td>\n",
       "      <td>5</td>\n",
       "      <td>0</td>\n",
       "      <td>0</td>\n",
       "      <td>0</td>\n",
       "      <td>0</td>\n",
       "      <td>0</td>\n",
       "      <td>0</td>\n",
       "      <td>Easy</td>\n",
       "    </tr>\n",
       "    <tr>\n",
       "      <th>4</th>\n",
       "      <td>...5....71.2......7....3.4..27.1..65.5..8.3......</td>\n",
       "      <td>26</td>\n",
       "      <td>57</td>\n",
       "      <td>23</td>\n",
       "      <td>0</td>\n",
       "      <td>0</td>\n",
       "      <td>0</td>\n",
       "      <td>0</td>\n",
       "      <td>3</td>\n",
       "      <td>2</td>\n",
       "      <td>Expert</td>\n",
       "    </tr>\n",
       "  </tbody>\n",
       "</table>\n",
       "</div>"
      ],
      "text/plain": [
       "                                              Puzzle  Givens  Singles  \\\n",
       "0  3..9.....8.71.....1..4.72..4.5...9.....28....9...      25       59   \n",
       "1  ....478.......2..75...3..1...147.39..4.....5.....      25       34   \n",
       "2  .....72.1.9...6..8.21..9..5.897..6...............      25       42   \n",
       "3  ......96....7.83.43.5.......9.8.1..7..8....1.....      26       50   \n",
       "4  ...5....71.2......7....3.4..27.1..65.5..8.3......      26       57   \n",
       "\n",
       "   Hidden Singles  Naked Pairs  Hidden Pairs  Pointing Pairs/Triples  \\\n",
       "0              16            0             0                       0   \n",
       "1              22            0             0                       0   \n",
       "2              14            3             0                       2   \n",
       "3               5            0             0                       0   \n",
       "4              23            0             0                       0   \n",
       "\n",
       "   Box/Line Intersections  Guesses  Backtracks    Difficulty  \n",
       "0                       0        5           4        Expert  \n",
       "1                       0        0           0          Easy  \n",
       "2                       0        0           0  Intermediate  \n",
       "3                       0        0           0          Easy  \n",
       "4                       0        3           2        Expert  "
      ]
     },
     "execution_count": 8,
     "metadata": {},
     "output_type": "execute_result"
    }
   ],
   "source": [
    "df = pan.read_csv('sample.csv')\n",
    "df.head()"
   ]
  },
  {
   "cell_type": "code",
   "execution_count": 9,
   "metadata": {},
   "outputs": [],
   "source": [
    "col1 = df['Puzzle'][0]"
   ]
  },
  {
   "cell_type": "code",
   "execution_count": 10,
   "metadata": {},
   "outputs": [],
   "source": [
    "# num = 0\n",
    "# mat = np.array([[]])\n",
    "\n",
    "# for char in col1:\n",
    "#     num += 1\n",
    "\n",
    "# for char in col1:\n",
    "#     mat[char.index/num][char.index % num]\n",
    "\n",
    "# # for i in range(8):\n",
    "# #     for j in range(8):\n",
    "# #         mat[i][j] = col1[j+(i*8)]"
   ]
  },
  {
   "cell_type": "code",
   "execution_count": 13,
   "metadata": {},
   "outputs": [
    {
     "name": "stdout",
     "output_type": "stream",
     "text": [
      "[3, 0, 0, 9, 0, 0, 0, 0, 0]\n",
      "[8, 0, 7, 1, 0, 0, 0, 0, 0]\n",
      "[1, 0, 0, 4, 0, 7, 2, 0, 0]\n",
      "[4, 0, 5, 0, 0, 0, 9, 0, 0]\n",
      "[0, 0, 0, 2, 8, 0, 0, 0, 0]\n",
      "[9, 8, 0, 0, 0, 0, 3, 1, 0]\n",
      "[0, 4, 1, 5, 0, 0, 0, 2, 0]\n",
      "[0, 0, 0, 0, 4, 0, 0, 5, 0]\n",
      "[0, 0, 9, 0, 0, 0, 0, 0, 0]\n"
     ]
    }
   ],
   "source": [
    "# Convert the string to a list of integers\n",
    "col1 = col1.replace('.', '0')\n",
    "numbers = [int(x) for x in col1]\n",
    "\n",
    "# Desired dimensions of the 2D matrix\n",
    "m, n = 9, 9\n",
    "\n",
    "# Check if we have the right amount of numbers\n",
    "if len(numbers) != m*n:\n",
    "    print(\"The number of elements does not match the desired dimensions of the matrix.\")\n",
    "else:\n",
    "    # Creating the 2D matrix\n",
    "    matrix = [numbers[i * n:(i + 1) * n] for i in range(m)]\n",
    "\n",
    "    # Print the matrix\n",
    "    for row in matrix:\n",
    "        print(row)"
   ]
  },
  {
   "cell_type": "code",
   "execution_count": null,
   "metadata": {},
   "outputs": [],
   "source": []
  }
 ],
 "metadata": {
  "kernelspec": {
   "display_name": "Python 3",
   "language": "python",
   "name": "python3"
  },
  "language_info": {
   "codemirror_mode": {
    "name": "ipython",
    "version": 3
   },
   "file_extension": ".py",
   "mimetype": "text/x-python",
   "name": "python",
   "nbconvert_exporter": "python",
   "pygments_lexer": "ipython3",
   "version": "3.12.1"
  }
 },
 "nbformat": 4,
 "nbformat_minor": 2
}
