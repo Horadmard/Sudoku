{
 "cells": [
  {
   "cell_type": "markdown",
   "metadata": {},
   "source": [
    "# Import needed Libraries\n",
    "\n",
    "- numpy : martixes and calculation\n",
    "- pandas : data manipulation and representation (.csv fies)\n",
    "- random : randomizing\n",
    "- math"
   ]
  },
  {
   "cell_type": "code",
   "execution_count": null,
   "metadata": {},
   "outputs": [],
   "source": [
    "import numpy as np\n",
    "import pandas as pn\n",
    "import random as rand\n",
    "import math\n",
    "# import networkx as nx\n",
    "# import matplotlib.pyplot as plt"
   ]
  },
  {
   "cell_type": "markdown",
   "metadata": {},
   "source": [
    "# Bring me data\n",
    "\n",
    "Import data from a .csv file that contains 20 Sudoku tables extracted from 'qqwing.com/generate.html'"
   ]
  },
  {
   "cell_type": "code",
   "execution_count": null,
   "metadata": {},
   "outputs": [],
   "source": [
    "df = pn.read_csv('../docs/sample.csv')\n",
    "df[['Puzzle', 'Difficulty']].head()"
   ]
  },
  {
   "cell_type": "markdown",
   "metadata": {},
   "source": [
    "# Selection\n",
    "Select one of 'em randomly\n",
    "\n",
    "It can be selected depends on 'Difficulty'(optional)"
   ]
  },
  {
   "cell_type": "code",
   "execution_count": null,
   "metadata": {},
   "outputs": [],
   "source": [
    "col1 = df['Puzzle'][rand.randint(0, 19)]"
   ]
  },
  {
   "cell_type": "code",
   "execution_count": null,
   "metadata": {},
   "outputs": [],
   "source": [
    "# Declare matrix dimation\n",
    "num = 0\n",
    "for char in col1:\n",
    "    num += 1\n",
    "\n",
    "dim = int(math.sqrt(num))"
   ]
  },
  {
   "cell_type": "markdown",
   "metadata": {},
   "source": [
    "# Result\n",
    "\n",
    "And now we have a nparray, that represents a specific Sudoku table with specifc dificulty.\n",
    "\n",
    "**The 0 cells, consider as empty**."
   ]
  },
  {
   "cell_type": "code",
   "execution_count": null,
   "metadata": {},
   "outputs": [],
   "source": [
    "# Convert the string to a list of integers\n",
    "col1 = col1.replace('.', '0')\n",
    "numbers = [int(x) for x in col1]\n",
    "\n",
    "# Creating the 2D matrix\n",
    "matrix = [numbers[i * dim:(i + 1) * dim] for i in range(dim)]\n",
    "\n",
    "numpy_array = np.array(matrix)\n",
    "numpy_array"
   ]
  },
  {
   "cell_type": "code",
   "execution_count": null,
   "metadata": {},
   "outputs": [],
   "source": [
    "# Initialize an empty list to store the submatrices\n",
    "submatrices = []\n",
    "\n",
    "# Split the matrix into 3x3 blocks\n",
    "for i in range(3):\n",
    "    for j in range(3):\n",
    "        submatrix = numpy_array[i*3:(i+1)*3, j*3:(j+1)*3]\n",
    "        submatrices.append(submatrix)\n",
    "\n",
    "# Print the resulting submatrices\n",
    "for idx, submatrix in enumerate(submatrices):\n",
    "    print(f\"Submatrix {idx+1}:\\n{submatrix}\\n\")\n"
   ]
  },
  {
   "cell_type": "markdown",
   "metadata": {},
   "source": [
    "# Functions\n",
    "\n",
    "Here we have a Function, (i would like to call it the *Harrass Function*) called **is_treated()** checks if we a value can be sited in a cell or not (depends on row and column).\n",
    "\n",
    "The function helps us with BFS algorithm, when a branch has noting to offer (not promising in other hand)."
   ]
  },
  {
   "cell_type": "code",
   "execution_count": null,
   "metadata": {},
   "outputs": [],
   "source": [
    "def is_treated(matrix, pos, value):\n",
    "    \n",
    "    #Checks if there's any same value in row or column\n",
    "    if value in matrix[pos[0]] or value in matrix.T[pos[1]]:\n",
    "        return False\n",
    "    else:\n",
    "        return True"
   ]
  },
  {
   "cell_type": "code",
   "execution_count": null,
   "metadata": {},
   "outputs": [],
   "source": [
    "is_treated(numpy_array, [0, 3], 6)"
   ]
  },
  {
   "cell_type": "markdown",
   "metadata": {},
   "source": [
    "# All you have to do is:\n",
    "\n",
    "Implanting BackTrack alg and run it on this matrix\n",
    "\n",
    "Another file i created called 'Visual.ipynb' can be use for visualisition using networks library"
   ]
  },
  {
   "cell_type": "markdown",
   "metadata": {},
   "source": []
  }
 ],
 "metadata": {
  "kernelspec": {
   "display_name": "Python 3",
   "language": "python",
   "name": "python3"
  },
  "language_info": {
   "codemirror_mode": {
    "name": "ipython",
    "version": 3
   },
   "file_extension": ".py",
   "mimetype": "text/x-python",
   "name": "python",
   "nbconvert_exporter": "python",
   "pygments_lexer": "ipython3",
   "version": "3.12.1"
  }
 },
 "nbformat": 4,
 "nbformat_minor": 2
}
