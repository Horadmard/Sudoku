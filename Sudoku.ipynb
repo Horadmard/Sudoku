{
 "cells": [
  {
   "cell_type": "code",
   "execution_count": 1,
   "metadata": {},
   "outputs": [],
   "source": [
    "import numpy as np\n",
    "import pandas as pn\n",
    "import random as rand\n",
    "import math"
   ]
  },
  {
   "cell_type": "code",
   "execution_count": 2,
   "metadata": {},
   "outputs": [
    {
     "data": {
      "text/html": [
       "<div>\n",
       "<style scoped>\n",
       "    .dataframe tbody tr th:only-of-type {\n",
       "        vertical-align: middle;\n",
       "    }\n",
       "\n",
       "    .dataframe tbody tr th {\n",
       "        vertical-align: top;\n",
       "    }\n",
       "\n",
       "    .dataframe thead th {\n",
       "        text-align: right;\n",
       "    }\n",
       "</style>\n",
       "<table border=\"1\" class=\"dataframe\">\n",
       "  <thead>\n",
       "    <tr style=\"text-align: right;\">\n",
       "      <th></th>\n",
       "      <th>Puzzle</th>\n",
       "      <th>Difficulty</th>\n",
       "    </tr>\n",
       "  </thead>\n",
       "  <tbody>\n",
       "    <tr>\n",
       "      <th>0</th>\n",
       "      <td>.59..27..........51.7..5......3....691..67.......</td>\n",
       "      <td>Expert</td>\n",
       "    </tr>\n",
       "    <tr>\n",
       "      <th>1</th>\n",
       "      <td>...4..3...6...1.7.4.1....5...8...7....52...1.6...</td>\n",
       "      <td>Expert</td>\n",
       "    </tr>\n",
       "    <tr>\n",
       "      <th>2</th>\n",
       "      <td>...6.....6....2...4.2.57...7.9.6.4..5....93.22...</td>\n",
       "      <td>Easy</td>\n",
       "    </tr>\n",
       "    <tr>\n",
       "      <th>3</th>\n",
       "      <td>.71.6......38.....2.4.93..........86.6.91.3..8...</td>\n",
       "      <td>Expert</td>\n",
       "    </tr>\n",
       "    <tr>\n",
       "      <th>4</th>\n",
       "      <td>.7.6.24.3.......56..2.1.....2...9.6.3..1.....7...</td>\n",
       "      <td>Expert</td>\n",
       "    </tr>\n",
       "  </tbody>\n",
       "</table>\n",
       "</div>"
      ],
      "text/plain": [
       "                                              Puzzle Difficulty\n",
       "0  .59..27..........51.7..5......3....691..67.......     Expert\n",
       "1  ...4..3...6...1.7.4.1....5...8...7....52...1.6...     Expert\n",
       "2  ...6.....6....2...4.2.57...7.9.6.4..5....93.22...       Easy\n",
       "3  .71.6......38.....2.4.93..........86.6.91.3..8...     Expert\n",
       "4  .7.6.24.3.......56..2.1.....2...9.6.3..1.....7...     Expert"
      ]
     },
     "execution_count": 2,
     "metadata": {},
     "output_type": "execute_result"
    }
   ],
   "source": [
    "df = pn.read_csv('sample.csv')\n",
    "df[['Puzzle', 'Difficulty']].head()"
   ]
  },
  {
   "cell_type": "code",
   "execution_count": 3,
   "metadata": {},
   "outputs": [],
   "source": [
    "col1 = df['Puzzle'][rand.randint(0, 19)]"
   ]
  },
  {
   "cell_type": "code",
   "execution_count": 6,
   "metadata": {},
   "outputs": [],
   "source": [
    "num = 0\n",
    "for char in col1:\n",
    "    num += 1\n",
    "\n",
    "dim = int(math.sqrt(num))"
   ]
  },
  {
   "cell_type": "code",
   "execution_count": 7,
   "metadata": {},
   "outputs": [
    {
     "name": "stdout",
     "output_type": "stream",
     "text": [
      "[0, 0, 0, 4, 0, 0, 9, 1, 0]\n",
      "[0, 8, 0, 0, 6, 0, 0, 2, 0]\n",
      "[9, 0, 0, 2, 0, 8, 0, 0, 3]\n",
      "[4, 0, 3, 0, 0, 7, 0, 9, 0]\n",
      "[0, 0, 0, 0, 1, 0, 0, 4, 0]\n",
      "[2, 1, 0, 0, 0, 0, 3, 0, 7]\n",
      "[0, 0, 8, 0, 0, 0, 0, 0, 0]\n",
      "[0, 0, 0, 0, 0, 0, 1, 0, 0]\n",
      "[0, 0, 7, 0, 8, 1, 0, 0, 4]\n"
     ]
    }
   ],
   "source": [
    "# Convert the string to a list of integers\n",
    "col1 = col1.replace('.', '0')\n",
    "numbers = [int(x) for x in col1]\n",
    "\n",
    "# Creating the 2D matrix\n",
    "matrix = [numbers[i * dim:(i + 1) * dim] for i in range(dim)]\n",
    "\n",
    "# Print the matrix\n",
    "for row in matrix:\n",
    "    print(row)\n",
    "\n",
    "# matrix"
   ]
  },
  {
   "cell_type": "code",
   "execution_count": null,
   "metadata": {},
   "outputs": [],
   "source": [
    "def is_treated(matrix, position, value):\n",
    "    \n",
    "    \n",
    "    return False\n",
    "    \n",
    "    return True"
   ]
  }
 ],
 "metadata": {
  "kernelspec": {
   "display_name": "Python 3",
   "language": "python",
   "name": "python3"
  },
  "language_info": {
   "codemirror_mode": {
    "name": "ipython",
    "version": 3
   },
   "file_extension": ".py",
   "mimetype": "text/x-python",
   "name": "python",
   "nbconvert_exporter": "python",
   "pygments_lexer": "ipython3",
   "version": "3.12.1"
  }
 },
 "nbformat": 4,
 "nbformat_minor": 2
}
