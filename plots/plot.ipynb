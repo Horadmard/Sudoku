{
 "cells": [
  {
   "cell_type": "code",
   "execution_count": null,
   "metadata": {},
   "outputs": [],
   "source": [
    "import numpy as np\n",
    "import pandas as pd\n",
    "import matplotlib.pyplot as plt\n",
    "\n",
    "# Initialize lists to store values\n",
    "iterations = []\n",
    "value1 = []\n",
    "value2 = []\n",
    "value3 = []\n",
    "\n",
    "# Assuming you have a loop where you get new values in each iteration\n",
    "for i in range(100):  # Example with 100 iterations\n",
    "    # Generate or obtain your values here\n",
    "    v1 = np.random.rand()\n",
    "    v2 = np.random.rand()\n",
    "    v3 = np.random.rand()\n",
    "    \n",
    "    # Append the values to the lists\n",
    "    iterations.append(i)\n",
    "    value1.append(v1)\n",
    "    value2.append(v2)\n",
    "    value3.append(v3)\n",
    "\n",
    "# Convert to a DataFrame for easier handling\n",
    "data = pd.DataFrame({\n",
    "    'Iteration': iterations,\n",
    "    'Value1': value1,\n",
    "    'Value2': value2\n",
    "})\n",
    "\n",
    "# Plotting the values\n",
    "plt.figure(figsize=(10, 6))\n",
    "plt.plot(data['Iteration'], data['Value1'], label='Value1')\n",
    "plt.plot(data['Iteration'], data['Value2'], label='Value2')\n",
    "plt.xlabel('Iteration')\n",
    "plt.ylabel('Values')\n",
    "plt.title('Values over Iterations')\n",
    "plt.legend()\n",
    "plt.show()\n"
   ]
  }
 ],
 "metadata": {
  "language_info": {
   "name": "python"
  }
 },
 "nbformat": 4,
 "nbformat_minor": 2
}
