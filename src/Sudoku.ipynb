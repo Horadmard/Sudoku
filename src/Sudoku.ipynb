{
 "cells": [
  {
   "cell_type": "markdown",
   "metadata": {},
   "source": [
    "# Import needed Libraries\n",
    "\n",
    "- numpy : martixes and calculation\n",
    "- pandas : data manipulation and representation (.csv fies)\n",
    "- random : randomizing\n",
    "- math"
   ]
  },
  {
   "cell_type": "code",
   "execution_count": 1,
   "metadata": {},
   "outputs": [],
   "source": [
    "import numpy as np\n",
    "import pandas as pn\n",
    "import random as rand\n",
    "import math\n",
    "# import networkx as nx\n",
    "# import matplotlib.pyplot as plt"
   ]
  },
  {
   "cell_type": "markdown",
   "metadata": {},
   "source": [
    "# Bring me data\n",
    "\n",
    "Import data from a .csv file that contains 20 Sudoku tables extracted from 'qqwing.com/generate.html'"
   ]
  },
  {
   "cell_type": "code",
   "execution_count": 2,
   "metadata": {},
   "outputs": [
    {
     "data": {
      "text/html": [
       "<div>\n",
       "<style scoped>\n",
       "    .dataframe tbody tr th:only-of-type {\n",
       "        vertical-align: middle;\n",
       "    }\n",
       "\n",
       "    .dataframe tbody tr th {\n",
       "        vertical-align: top;\n",
       "    }\n",
       "\n",
       "    .dataframe thead th {\n",
       "        text-align: right;\n",
       "    }\n",
       "</style>\n",
       "<table border=\"1\" class=\"dataframe\">\n",
       "  <thead>\n",
       "    <tr style=\"text-align: right;\">\n",
       "      <th></th>\n",
       "      <th>Puzzle</th>\n",
       "      <th>Difficulty</th>\n",
       "    </tr>\n",
       "  </thead>\n",
       "  <tbody>\n",
       "    <tr>\n",
       "      <th>0</th>\n",
       "      <td>.59..27..........51.7..5......3....691..67.......</td>\n",
       "      <td>Expert</td>\n",
       "    </tr>\n",
       "    <tr>\n",
       "      <th>1</th>\n",
       "      <td>...4..3...6...1.7.4.1....5...8...7....52...1.6...</td>\n",
       "      <td>Expert</td>\n",
       "    </tr>\n",
       "    <tr>\n",
       "      <th>2</th>\n",
       "      <td>...6.....6....2...4.2.57...7.9.6.4..5....93.22...</td>\n",
       "      <td>Easy</td>\n",
       "    </tr>\n",
       "    <tr>\n",
       "      <th>3</th>\n",
       "      <td>.71.6......38.....2.4.93..........86.6.91.3..8...</td>\n",
       "      <td>Expert</td>\n",
       "    </tr>\n",
       "    <tr>\n",
       "      <th>4</th>\n",
       "      <td>.7.6.24.3.......56..2.1.....2...9.6.3..1.....7...</td>\n",
       "      <td>Expert</td>\n",
       "    </tr>\n",
       "  </tbody>\n",
       "</table>\n",
       "</div>"
      ],
      "text/plain": [
       "                                              Puzzle Difficulty\n",
       "0  .59..27..........51.7..5......3....691..67.......     Expert\n",
       "1  ...4..3...6...1.7.4.1....5...8...7....52...1.6...     Expert\n",
       "2  ...6.....6....2...4.2.57...7.9.6.4..5....93.22...       Easy\n",
       "3  .71.6......38.....2.4.93..........86.6.91.3..8...     Expert\n",
       "4  .7.6.24.3.......56..2.1.....2...9.6.3..1.....7...     Expert"
      ]
     },
     "execution_count": 2,
     "metadata": {},
     "output_type": "execute_result"
    }
   ],
   "source": [
    "df = pn.read_csv('../docs/sample.csv')\n",
    "df[['Puzzle', 'Difficulty']].head()"
   ]
  },
  {
   "cell_type": "markdown",
   "metadata": {},
   "source": [
    "# Selection\n",
    "Select one of 'em randomly\n",
    "\n",
    "It can be selected depends on 'Difficulty'(optional)"
   ]
  },
  {
   "cell_type": "code",
   "execution_count": 3,
   "metadata": {},
   "outputs": [],
   "source": [
    "col1 = df['Puzzle'][rand.randint(0, 19)]"
   ]
  },
  {
   "cell_type": "code",
   "execution_count": 4,
   "metadata": {},
   "outputs": [],
   "source": [
    "# Declare matrix dimation\n",
    "num = 0\n",
    "for char in col1:\n",
    "    num += 1\n",
    "\n",
    "dim = int(math.sqrt(num))"
   ]
  },
  {
   "cell_type": "markdown",
   "metadata": {},
   "source": [
    "# Result\n",
    "\n",
    "And now we have a nparray, that represents a specific Sudoku table with specifc dificulty.\n",
    "\n",
    "**The 0 cells, consider as empty**."
   ]
  },
  {
   "cell_type": "code",
   "execution_count": 5,
   "metadata": {},
   "outputs": [
    {
     "data": {
      "text/plain": [
       "array([[5, 8, 0, 0, 0, 0, 7, 0, 0],\n",
       "       [0, 7, 0, 0, 0, 1, 4, 0, 5],\n",
       "       [0, 0, 0, 6, 0, 0, 0, 0, 0],\n",
       "       [0, 0, 1, 0, 0, 0, 0, 0, 0],\n",
       "       [0, 6, 0, 0, 0, 0, 3, 5, 0],\n",
       "       [8, 5, 3, 0, 0, 0, 0, 1, 4],\n",
       "       [0, 0, 0, 0, 0, 4, 0, 0, 3],\n",
       "       [0, 0, 4, 0, 2, 8, 5, 7, 0],\n",
       "       [0, 0, 0, 0, 0, 7, 8, 0, 0]])"
      ]
     },
     "execution_count": 5,
     "metadata": {},
     "output_type": "execute_result"
    }
   ],
   "source": [
    "# Convert the string to a list of integers\n",
    "col1 = col1.replace('.', '0')\n",
    "numbers = [int(x) for x in col1]\n",
    "\n",
    "# Creating the 2D matrix\n",
    "matrix = [numbers[i * dim:(i + 1) * dim] for i in range(dim)]\n",
    "\n",
    "numpy_array = np.array(matrix)\n",
    "numpy_array"
   ]
  },
  {
   "cell_type": "code",
   "execution_count": 9,
   "metadata": {},
   "outputs": [
    {
     "name": "stdout",
     "output_type": "stream",
     "text": [
      "Submatrix 1:\n",
      "[[5 8 0]\n",
      " [0 7 0]\n",
      " [0 0 0]]\n",
      "\n",
      "Submatrix 2:\n",
      "[[0 0 0]\n",
      " [0 0 1]\n",
      " [6 0 0]]\n",
      "\n",
      "Submatrix 3:\n",
      "[[7 0 0]\n",
      " [4 0 5]\n",
      " [0 0 0]]\n",
      "\n",
      "Submatrix 4:\n",
      "[[0 0 1]\n",
      " [0 6 0]\n",
      " [8 5 3]]\n",
      "\n",
      "Submatrix 5:\n",
      "[[0 0 0]\n",
      " [0 0 0]\n",
      " [0 0 0]]\n",
      "\n",
      "Submatrix 6:\n",
      "[[0 0 0]\n",
      " [3 5 0]\n",
      " [0 1 4]]\n",
      "\n",
      "Submatrix 7:\n",
      "[[0 0 0]\n",
      " [0 0 4]\n",
      " [0 0 0]]\n",
      "\n",
      "Submatrix 8:\n",
      "[[0 0 4]\n",
      " [0 2 8]\n",
      " [0 0 7]]\n",
      "\n",
      "Submatrix 9:\n",
      "[[0 0 3]\n",
      " [5 7 0]\n",
      " [8 0 0]]\n",
      "\n"
     ]
    }
   ],
   "source": [
    "# Initialize an empty list to store the submatrices\n",
    "Blocks = []\n",
    "\n",
    "# Split the matrix into 3x3 blocks\n",
    "for i in range(3):\n",
    "    for j in range(3):\n",
    "        Block = numpy_array[i*3:(i+1)*3, j*3:(j+1)*3]\n",
    "        Blocks.append(Block)\n",
    "\n",
    "# Print the resulting submatrices\n",
    "for idx, Block in enumerate(Blocks):\n",
    "    print(f\"Block {idx+1}:\\n{Block}\\n\")\n"
   ]
  },
  {
   "cell_type": "markdown",
   "metadata": {},
   "source": [
    "# Functions\n",
    "\n",
    "Here we have a Function, (i would like to call it the *Harrass Function*) called **is_treated()** checks if we a value can be sited in a cell or not (depends on row and column).\n",
    "\n",
    "The function helps us with BFS algorithm, when a branch has noting to offer (not promising in other hand)."
   ]
  },
  {
   "cell_type": "code",
   "execution_count": 7,
   "metadata": {},
   "outputs": [],
   "source": [
    "def is_treated(matrix, pos, value):\n",
    "    \n",
    "    #Checks if there's any same value in row or column\n",
    "    if value in matrix[pos[0]] or value in matrix.T[pos[1]]:\n",
    "        return False\n",
    "    else:\n",
    "        return True"
   ]
  },
  {
   "cell_type": "code",
   "execution_count": 8,
   "metadata": {},
   "outputs": [
    {
     "data": {
      "text/plain": [
       "False"
      ]
     },
     "execution_count": 8,
     "metadata": {},
     "output_type": "execute_result"
    }
   ],
   "source": [
    "is_treated(numpy_array, [0, 3], 6)"
   ]
  },
  {
   "cell_type": "markdown",
   "metadata": {},
   "source": [
    "# All you have to do is:\n",
    "\n",
    "Implanting BackTrack alg and run it on this matrix\n",
    "\n",
    "Another file i created called 'Visual.ipynb' can be use for visualisition using networks library"
   ]
  },
  {
   "cell_type": "markdown",
   "metadata": {},
   "source": []
  }
 ],
 "metadata": {
  "kernelspec": {
   "display_name": "Python 3",
   "language": "python",
   "name": "python3"
  },
  "language_info": {
   "codemirror_mode": {
    "name": "ipython",
    "version": 3
   },
   "file_extension": ".py",
   "mimetype": "text/x-python",
   "name": "python",
   "nbconvert_exporter": "python",
   "pygments_lexer": "ipython3",
   "version": "3.12.1"
  }
 },
 "nbformat": 4,
 "nbformat_minor": 2
}
